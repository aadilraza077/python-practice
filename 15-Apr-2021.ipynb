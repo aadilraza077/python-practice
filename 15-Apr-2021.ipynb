{
 "cells": [
  {
   "cell_type": "code",
   "execution_count": 1,
   "metadata": {},
   "outputs": [
    {
     "name": "stdout",
     "output_type": "stream",
     "text": [
      "hello world\n"
     ]
    }
   ],
   "source": [
    "print(\"hello world\")"
   ]
  },
  {
   "cell_type": "code",
   "execution_count": 4,
   "metadata": {},
   "outputs": [
    {
     "name": "stdout",
     "output_type": "stream",
     "text": [
      "enter a number:4444444\n",
      "even no\n"
     ]
    }
   ],
   "source": [
    "def check(a):\n",
    "    if(a%2==0):\n",
    "        return True\n",
    "    else:\n",
    "        return False\n",
    "n = int(input(\"enter a number:\"))\n",
    "if(check(n)):\n",
    "    print(\"even no\")\n",
    "else:\n",
    "    print(\"odd no\")\n",
    "    "
   ]
  },
  {
   "cell_type": "code",
   "execution_count": 16,
   "metadata": {},
   "outputs": [
    {
     "data": {
      "text/plain": [
       "<bound method B.sum of <__main__.B object at 0x032A0748>>"
      ]
     },
     "execution_count": 16,
     "metadata": {},
     "output_type": "execute_result"
    }
   ],
   "source": [
    "class A:\n",
    "    __a = 10\n",
    "    _b = 20\n",
    "class B(A):\n",
    "    c = 30\n",
    "    def sum(self):\n",
    "        self.d =self.b+self.c\n",
    "        print(d)\n",
    "r = B()\n",
    "r.sum"
   ]
  },
  {
   "cell_type": "markdown",
   "metadata": {},
   "source": [
    "* ***python***\n"
   ]
  },
  {
   "cell_type": "markdown",
   "metadata": {},
   "source": [
    "** **variable**\n"
   ]
  },
  {
   "cell_type": "code",
   "execution_count": 19,
   "metadata": {},
   "outputs": [
    {
     "name": "stdout",
     "output_type": "stream",
     "text": [
      "10\n"
     ]
    }
   ],
   "source": [
    "a = 10\n",
    "print(a)"
   ]
  },
  {
   "cell_type": "code",
   "execution_count": 31,
   "metadata": {},
   "outputs": [
    {
     "name": "stdout",
     "output_type": "stream",
     "text": [
      "enter a number:q3r832gfr3924rt82\n",
      "q3r832gfr3924rt82\n"
     ]
    }
   ],
   "source": [
    "a = input(\"enter a number:\")\n",
    "print(a)"
   ]
  },
  {
   "cell_type": "code",
   "execution_count": 33,
   "metadata": {},
   "outputs": [
    {
     "data": {
      "text/plain": [
       "True"
      ]
     },
     "execution_count": 33,
     "metadata": {},
     "output_type": "execute_result"
    }
   ],
   "source": [
    "import webbrowser\n",
    "webbrowser.open(\"https://www.google.com/\")"
   ]
  },
  {
   "cell_type": "code",
   "execution_count": 36,
   "metadata": {},
   "outputs": [
    {
     "data": {
      "text/plain": [
       "'Thu Apr 15 12:25:19 2021'"
      ]
     },
     "execution_count": 36,
     "metadata": {},
     "output_type": "execute_result"
    }
   ],
   "source": [
    "import time \n",
    "time.ctime()\n"
   ]
  },
  {
   "cell_type": "code",
   "execution_count": 1,
   "metadata": {},
   "outputs": [
    {
     "name": "stdout",
     "output_type": "stream",
     "text": [
      "4.0\n"
     ]
    }
   ],
   "source": [
    "import math\n",
    "print(math.sqrt(16))"
   ]
  },
  {
   "cell_type": "code",
   "execution_count": 2,
   "metadata": {},
   "outputs": [
    {
     "data": {
      "text/plain": [
       "<bound method Misc.mainloop of <tkinter.Tk object .>>"
      ]
     },
     "execution_count": 2,
     "metadata": {},
     "output_type": "execute_result"
    }
   ],
   "source": [
    "from tkinter import *\n",
    "root = Tk()\n",
    "root.title(\"intro\")\n",
    "root.geometry('350x200')\n",
    "root.mainloop"
   ]
  },
  {
   "cell_type": "code",
   "execution_count": 1,
   "metadata": {},
   "outputs": [
    {
     "name": "stdout",
     "output_type": "stream",
     "text": [
      "5\n",
      "10\n",
      "sum = 15 sub = -5 div = 0.5 mul = 50\n",
      "b is greater\n",
      "b is greater than a\n"
     ]
    }
   ],
   "source": [
    "def arth(a,b):\n",
    "    sum = a+b\n",
    "    sub = a-b\n",
    "    div = a/b\n",
    "    mul = a*b\n",
    "    print(\"sum =\",sum,\"sub =\",sub,\"div =\",div,\"mul =\",mul)\n",
    "def comp(a,b):\n",
    "    if(a>b):\n",
    "        print(\"a is greater\")\n",
    "    elif(b>a):\n",
    "        print(\"b is greater\")\n",
    "    elif(a==b):\n",
    "        print(\"a is equal to b\")\n",
    "    elif(a!=b):\n",
    "        print(\"a is not equal to b\")\n",
    "def logic(a,b):\n",
    "    if(a!=b and a>b):\n",
    "        print(\"a is greater than b\")\n",
    "    elif(a!=b and a<b):\n",
    "        print(\"b is greater than a\")     \n",
    "    elif(a==b or a>b or b>a):\n",
    "        print(\"okay\")\n",
    "a =int(input())\n",
    "b =int(input())\n",
    "arth(a,b)\n",
    "comp(a,b)\n",
    "logic(a,b)"
   ]
  },
  {
   "cell_type": "code",
   "execution_count": 10,
   "metadata": {},
   "outputs": [
    {
     "ename": "IndentationError",
     "evalue": "expected an indented block (<ipython-input-10-bc122ac5231f>, line 6)",
     "output_type": "error",
     "traceback": [
      "\u001b[1;36m  File \u001b[1;32m\"<ipython-input-10-bc122ac5231f>\"\u001b[1;36m, line \u001b[1;32m6\u001b[0m\n\u001b[1;33m    if(i = j):\u001b[0m\n\u001b[1;37m    ^\u001b[0m\n\u001b[1;31mIndentationError\u001b[0m\u001b[1;31m:\u001b[0m expected an indented block\n"
     ]
    }
   ],
   "source": [
    "a = input(\"enter a string:\")\n",
    "b = input(\"enter another string:\")\n",
    "def str(a,b):\n",
    "    for i in a:\n",
    "        for j in b:\n",
    "        if(i = j):\n",
    "            return True\n",
    "        else:\n",
    "            return False\n",
    "if(str(a,b)):\n",
    "    print(\"true\")\n",
    "else:\n",
    "    print(\"false\")"
   ]
  },
  {
   "cell_type": "code",
   "execution_count": 19,
   "metadata": {},
   "outputs": [
    {
     "name": "stdout",
     "output_type": "stream",
     "text": [
      "Batman is a superhero who appears in American comic books published by DC Comics.\n",
      " Batman was created by artist Bob Kane and writer Bill Finger, and debuted in the 27th issue of the comic book Detective Comics on March 30, 1939.\n",
      " In the DC Universe continuity, Batman is the alias of Bruce Wayne, a wealthy American playboy, philanthropist, and owner of Wayne Enterprises based in Gotham City.\n",
      " Kane, Finger, and future DC writers accompanied Batman with supporting characters, including his sidekick Robin, allies Alfred Pennyworth, James Gordon and Catwoman, and foes such as the Penguin, the Riddler, the Scarecrow, and his archenemy, the Joker. \n",
      "Batman's origin story features him swearing vengeance against criminals after witnessing the murder of his parents Thomas and Martha;\n",
      " he trains himself physically and intellectually, crafts a bat-inspired persona, and monitors the Gotham streets at night.\n"
     ]
    }
   ],
   "source": [
    "print(\"Batman is a superhero who appears in American comic books published by DC Comics.\\n Batman was created by artist Bob Kane and writer Bill Finger, and debuted in the 27th issue of the comic book Detective Comics on March 30, 1939.\\n In the DC Universe continuity, Batman is the alias of Bruce Wayne, a wealthy American playboy, philanthropist, and owner of Wayne Enterprises based in Gotham City.\\n Kane, Finger, and future DC writers accompanied Batman with supporting characters, including his sidekick Robin, allies Alfred Pennyworth, James Gordon and Catwoman, and foes such as the Penguin, the Riddler, the Scarecrow, and his archenemy, the Joker. \\nBatman's origin story features him swearing vengeance against criminals after witnessing the murder of his parents Thomas and Martha;\\n he trains himself physically and intellectually, crafts a bat-inspired persona, and monitors the Gotham streets at night.\")"
   ]
  },
  {
   "cell_type": "code",
   "execution_count": 20,
   "metadata": {},
   "outputs": [
    {
     "name": "stdout",
     "output_type": "stream",
     "text": [
      "enter a vlaue:6\n",
      "6 is a positive number\n"
     ]
    }
   ],
   "source": [
    "n = int(input(\"enter a vlaue:\"))\n",
    "if n>0:\n",
    "    print(n,\"is a positive number\")"
   ]
  },
  {
   "cell_type": "code",
   "execution_count": 39,
   "metadata": {},
   "outputs": [
    {
     "name": "stdout",
     "output_type": "stream",
     "text": [
      "enter a year:101\n",
      "is not a leap year\n"
     ]
    }
   ],
   "source": [
    "def leap(year):\n",
    "    if (year % 4) == 0:\n",
    "        if (year % 100) == 0:\n",
    "            if (year % 400) == 0:\n",
    "                print(\"is a leap year\")\n",
    "            else:\n",
    "                print(\"is not a leap year\")\n",
    "        else:\n",
    "            print(\"is a leap year\")\n",
    "    else:\n",
    "         print(\"is not a leap year\")\n",
    "y = int(input(\"enter a year:\"))\n",
    "leap(y)"
   ]
  },
  {
   "cell_type": "code",
   "execution_count": null,
   "metadata": {},
   "outputs": [],
   "source": [
    "c = input(\"enter a character:\")\n",
    "if c in(\"a\",\"e\",\"i\",\"o\",\"u\",\"A\",\"E\",\"I\",\"O\",\"U\"):\n",
    "    print(c,\"is a vowel\")\n",
    "else:\n",
    "    print(\"not a vowel\")"
   ]
  },
  {
   "cell_type": "code",
   "execution_count": null,
   "metadata": {},
   "outputs": [],
   "source": [
    "a = int(input(\"enter a:\"))\n",
    "b = int(input(\"enter b:\"))\n",
    "c = int(input(\"enter c:\"))\n",
    "if(a==b and b==c and c==b):\n",
    "    print(\"all are equal\")\n",
    "elif(a==b):\n",
    "    print(\"a=b\")\n",
    "elif(b==c):\n",
    "    print(\"b=c\")\n",
    "elif(c==a):\n",
    "    print(\"c=a\")\n",
    "elif(a>b and a>c):\n",
    "    print(\"a is greater\")\n",
    "elif(b>a and b>c):\n",
    "    print(\"b is greater\")\n",
    "elif(c>a and c>b):\n",
    "    print(\"c is greater\")\n",
    "else:\n",
    "    print(\"wrong input\")\n",
    "    "
   ]
  },
  {
   "cell_type": "code",
   "execution_count": null,
   "metadata": {},
   "outputs": [],
   "source": []
  },
  {
   "cell_type": "code",
   "execution_count": null,
   "metadata": {},
   "outputs": [],
   "source": []
  }
 ],
 "metadata": {
  "kernelspec": {
   "display_name": "Python 3",
   "language": "python",
   "name": "python3"
  },
  "language_info": {
   "codemirror_mode": {
    "name": "ipython",
    "version": 3
   },
   "file_extension": ".py",
   "mimetype": "text/x-python",
   "name": "python",
   "nbconvert_exporter": "python",
   "pygments_lexer": "ipython3",
   "version": "3.8.5"
  }
 },
 "nbformat": 4,
 "nbformat_minor": 4
}
