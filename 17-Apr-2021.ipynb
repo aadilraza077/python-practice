{
 "cells": [
  {
   "cell_type": "markdown",
   "metadata": {},
   "source": [
    "**data structures**\n"
   ]
  },
  {
   "cell_type": "markdown",
   "metadata": {},
   "source": [
    "**strings**\n",
    "**lists**\n",
    "**tuples**\n",
    "**dictionary**\n",
    "**sets**\n",
    "\n",
    "    "
   ]
  },
  {
   "cell_type": "code",
   "execution_count": 2,
   "metadata": {},
   "outputs": [
    {
     "name": "stdout",
     "output_type": "stream",
     "text": [
      "aadil\n",
      "<class 'str'>\n"
     ]
    }
   ],
   "source": [
    "n = input(\"\")\n",
    "print(type(n))"
   ]
  },
  {
   "cell_type": "code",
   "execution_count": 9,
   "metadata": {},
   "outputs": [
    {
     "name": "stdout",
     "output_type": "stream",
     "text": [
      "<class 'list'>\n"
     ]
    }
   ],
   "source": [
    "#lists\n",
    "print(type([]))"
   ]
  },
  {
   "cell_type": "code",
   "execution_count": 8,
   "metadata": {},
   "outputs": [
    {
     "name": "stdout",
     "output_type": "stream",
     "text": [
      "<class 'tuple'>\n"
     ]
    }
   ],
   "source": [
    "#tuples\n",
    "print(type(()))\n"
   ]
  },
  {
   "cell_type": "code",
   "execution_count": 6,
   "metadata": {},
   "outputs": [
    {
     "name": "stdout",
     "output_type": "stream",
     "text": [
      "<class 'dict'>\n"
     ]
    }
   ],
   "source": [
    "#dictionary\n",
    "\n",
    "print(type({}))\n"
   ]
  },
  {
   "cell_type": "code",
   "execution_count": 16,
   "metadata": {},
   "outputs": [
    {
     "name": "stdout",
     "output_type": "stream",
     "text": [
      "kgjeghgrhrbr\n"
     ]
    }
   ],
   "source": [
    "n =\"fkhgkjreagjhrgbrghoribhribrf\"\n",
    "print(n[1:-4:2])"
   ]
  },
  {
   "cell_type": "code",
   "execution_count": 17,
   "metadata": {},
   "outputs": [
    {
     "name": "stdout",
     "output_type": "stream",
     "text": [
      "el ol\n"
     ]
    }
   ],
   "source": [
    "a = \"hello world\"\n",
    "print(a[1:-1:2])"
   ]
  },
  {
   "cell_type": "code",
   "execution_count": 28,
   "metadata": {},
   "outputs": [
    {
     "name": "stdout",
     "output_type": "stream",
     "text": [
      "he\n"
     ]
    }
   ],
   "source": [
    "s = \"hello world\"\n",
    "s1 =(slice(2))\n",
    "print(s[s1])"
   ]
  },
  {
   "cell_type": "code",
   "execution_count": 30,
   "metadata": {},
   "outputs": [
    {
     "name": "stdout",
     "output_type": "stream",
     "text": [
      "STR\n",
      "TI\n",
      "GIT\n"
     ]
    }
   ],
   "source": [
    "s ='STRING'\n",
    "s1 = slice(3)\n",
    "s2 = slice(1, 5, 2) \n",
    "s3 = slice(-1, -12, -2)   \n",
    "print(s[s1]) \n",
    "print(s[s2]) \n",
    "print(s[s3])"
   ]
  },
  {
   "cell_type": "code",
   "execution_count": 32,
   "metadata": {},
   "outputs": [
    {
     "name": "stdout",
     "output_type": "stream",
     "text": [
      "<class 'list'>\n"
     ]
    }
   ],
   "source": [
    "l =[1,2,3,4,5,6,7,8]\n",
    "print(type(l))"
   ]
  },
  {
   "cell_type": "code",
   "execution_count": 33,
   "metadata": {},
   "outputs": [
    {
     "name": "stdout",
     "output_type": "stream",
     "text": [
      "['__add__', '__class__', '__contains__', '__delattr__', '__dir__', '__doc__', '__eq__', '__format__', '__ge__', '__getattribute__', '__getitem__', '__getnewargs__', '__gt__', '__hash__', '__init__', '__init_subclass__', '__iter__', '__le__', '__len__', '__lt__', '__mod__', '__mul__', '__ne__', '__new__', '__reduce__', '__reduce_ex__', '__repr__', '__rmod__', '__rmul__', '__setattr__', '__sizeof__', '__str__', '__subclasshook__', 'capitalize', 'casefold', 'center', 'count', 'encode', 'endswith', 'expandtabs', 'find', 'format', 'format_map', 'index', 'isalnum', 'isalpha', 'isascii', 'isdecimal', 'isdigit', 'isidentifier', 'islower', 'isnumeric', 'isprintable', 'isspace', 'istitle', 'isupper', 'join', 'ljust', 'lower', 'lstrip', 'maketrans', 'partition', 'replace', 'rfind', 'rindex', 'rjust', 'rpartition', 'rsplit', 'rstrip', 'split', 'splitlines', 'startswith', 'strip', 'swapcase', 'title', 'translate', 'upper', 'zfill']\n"
     ]
    }
   ],
   "source": [
    "print(dir(str))"
   ]
  },
  {
   "cell_type": "code",
   "execution_count": 36,
   "metadata": {},
   "outputs": [
    {
     "name": "stdout",
     "output_type": "stream",
     "text": [
      "Hello world\n"
     ]
    }
   ],
   "source": [
    "#capitalize\n",
    "s = \"hello world\"\n",
    "print(s.capitalize())\n"
   ]
  },
  {
   "cell_type": "code",
   "execution_count": 38,
   "metadata": {},
   "outputs": [
    {
     "name": "stdout",
     "output_type": "stream",
     "text": [
      "Hello World\n"
     ]
    }
   ],
   "source": [
    "#title\n",
    "s =\"hello world\"\n",
    "print(s.title())"
   ]
  },
  {
   "cell_type": "code",
   "execution_count": 41,
   "metadata": {},
   "outputs": [
    {
     "name": "stdout",
     "output_type": "stream",
     "text": [
      "HELLO WORLD\n",
      "hello world\n",
      "HELLO WORLD\n"
     ]
    }
   ],
   "source": [
    "s =\"hello world\"\n",
    "s1 = s.upper()\n",
    "print(s1)\n",
    "s2 = s.lower()\n",
    "print(s2)\n",
    "s3 =s.swapcase()\n",
    "print(s3)"
   ]
  },
  {
   "cell_type": "code",
   "execution_count": 27,
   "metadata": {},
   "outputs": [
    {
     "name": "stdout",
     "output_type": "stream",
     "text": [
      "vidyaanuambika\n",
      "\n",
      "528540522\n"
     ]
    }
   ],
   "source": [
    "s = \"vidya 528 anu 540 ambika 522\"\n",
    "def seperate(s):\n",
    "    l=\"\"\n",
    "    for i in s:\n",
    "        if(i.isalpha()):\n",
    "            print(i,end=\"\")\n",
    "        elif(i==\" \"):\n",
    "            pass\n",
    "        else:\n",
    "            l=l+i\n",
    "    print(\"\\n\")        \n",
    "    print(l)\n",
    "seperate(s)"
   ]
  },
  {
   "cell_type": "code",
   "execution_count": 47,
   "metadata": {},
   "outputs": [
    {
     "name": "stdout",
     "output_type": "stream",
     "text": [
      "enter a string :RasOOLSHaik0123@#$$$$%\n",
      "0123\n",
      "numbers count= 4\n",
      "ROOLSH\n",
      "capitals count= 6\n",
      "asaik\n",
      "lower case count= 5\n",
      "@#$$$$%\n",
      "special characters count =  7\n"
     ]
    }
   ],
   "source": [
    "#seperating characters in a string \n",
    "def seperate(s):\n",
    "    num = \"\"\n",
    "    cap = \"\"\n",
    "    small = \"\"\n",
    "    spl=\"\"\n",
    "    spl1=0\n",
    "    num1=0\n",
    "    cap1=0\n",
    "    small1=0\n",
    "    space=0\n",
    "    for i in s:\n",
    "        if(i.isalpha()):\n",
    "            if(i.islower()):\n",
    "                small = small+i\n",
    "                small1+=1\n",
    "            if(i.isupper()):\n",
    "                cap = cap+i\n",
    "                cap1+=1\n",
    "        elif(i==\" \"):\n",
    "            space=space+1\n",
    "             \n",
    "        elif(i.isdigit()):\n",
    "            num=num+i\n",
    "            num1=num1+1\n",
    "        else:\n",
    "            spl = spl+i\n",
    "            spl1 = spl1+1\n",
    "            \n",
    "    print(num)\n",
    "    print(\"numbers count=\",num1)\n",
    "    print(cap)\n",
    "    print(\"capitals count=\",cap1)\n",
    "    print(small)\n",
    "    print(\"lower case count=\",small1)\n",
    "    print(spl)\n",
    "    print(\"special characters count = \",spl1)\n",
    "s = input(\"enter a string :\")\n",
    "seperate(s)"
   ]
  },
  {
   "cell_type": "code",
   "execution_count": 51,
   "metadata": {},
   "outputs": [
    {
     "name": "stdout",
     "output_type": "stream",
     "text": [
      "00000hello\n"
     ]
    }
   ],
   "source": [
    "#zfill\n",
    "s =\"hello\"\n",
    "print(s.zfill(10))"
   ]
  },
  {
   "cell_type": "code",
   "execution_count": 53,
   "metadata": {},
   "outputs": [
    {
     "name": "stdout",
     "output_type": "stream",
     "text": [
      "python programming language\n"
     ]
    }
   ],
   "source": [
    "#format\n",
    "print(\"{} {} language\".format('python','programming'))"
   ]
  },
  {
   "cell_type": "code",
   "execution_count": 54,
   "metadata": {},
   "outputs": [
    {
     "name": "stdout",
     "output_type": "stream",
     "text": [
      "python programming language\n"
     ]
    }
   ],
   "source": [
    "a =\"python\"\n",
    "b =\"programming\"\n",
    "print(\"{} {} language\".format(a,b))"
   ]
  },
  {
   "cell_type": "code",
   "execution_count": 56,
   "metadata": {},
   "outputs": [
    {
     "name": "stdout",
     "output_type": "stream",
     "text": [
      "enter a number:5\n",
      "5 x 1 = 5\n",
      "5 x 2 = 10\n",
      "5 x 3 = 15\n",
      "5 x 4 = 20\n",
      "5 x 5 = 25\n",
      "5 x 6 = 30\n",
      "5 x 7 = 35\n",
      "5 x 8 = 40\n",
      "5 x 9 = 45\n",
      "5 x 10 = 50\n"
     ]
    }
   ],
   "source": [
    "#format method\n",
    "n = int(input(\"enter a number:\"))\n",
    "for i in range(1,11):\n",
    "    print(\"{} x {} = {}\".format(n,i,n*i))"
   ]
  },
  {
   "cell_type": "code",
   "execution_count": 59,
   "metadata": {},
   "outputs": [
    {
     "name": "stdout",
     "output_type": "stream",
     "text": [
      "3\n"
     ]
    }
   ],
   "source": [
    "#index method\n",
    "s =\"rasoolshaik\"\n",
    "print(s.index('o'))\n"
   ]
  },
  {
   "cell_type": "code",
   "execution_count": 65,
   "metadata": {},
   "outputs": [
    {
     "name": "stdout",
     "output_type": "stream",
     "text": [
      "p@y@t@h@o@n\n"
     ]
    }
   ],
   "source": [
    "#join method\n",
    "s =\"python\"\n",
    "print(\"@\".join(s))"
   ]
  },
  {
   "cell_type": "code",
   "execution_count": 15,
   "metadata": {},
   "outputs": [
    {
     "name": "stdout",
     "output_type": "stream",
     "text": [
      "python  lab \n"
     ]
    }
   ],
   "source": [
    "s =\"python  programming \"\n",
    "print(s.replace(\"programming\",\"lab\"))\n"
   ]
  },
  {
   "cell_type": "code",
   "execution_count": 22,
   "metadata": {},
   "outputs": [
    {
     "name": "stdout",
     "output_type": "stream",
     "text": [
      "Apssdc python PRogRaMIng vignans LARA\n"
     ]
    }
   ],
   "source": [
    "#task\n",
    "#input = \"apssdc PYTHON prOGrAmiNG vignans lara\"\n",
    "#output = \"Apssdc python PRogRaMIng vignans LARA\"\n",
    "def change(s):\n",
    "    c =\"\"\n",
    "    s1 =s.split()\n",
    "    print(s1[0].capitalize(),s1[1].lower(),s1[2].swapcase(),s1[3],s1[4].upper())\n",
    "s = \"apssdc PYTHON prOGrAmiNG vignans lara\"\n",
    "change(s)"
   ]
  },
  {
   "cell_type": "code",
   "execution_count": 7,
   "metadata": {},
   "outputs": [
    {
     "name": "stdout",
     "output_type": "stream",
     "text": [
      "enter your name :shaik aadil\n",
      "s.aadil\n"
     ]
    }
   ],
   "source": [
    "def sname(s):\n",
    "    s1 = s.split()\n",
    "    s2 =s1[0]\n",
    "    print(s2[0]+\".\"+s1[1])\n",
    "name = input(\"enter your name :\")\n",
    "sname(name)"
   ]
  },
  {
   "cell_type": "code",
   "execution_count": 11,
   "metadata": {},
   "outputs": [
    {
     "name": "stdout",
     "output_type": "stream",
     "text": [
      "[[1, 2, 3]]\n"
     ]
    }
   ],
   "source": [
    "l = []\n",
    "l.append([1,2,3])\n",
    "print(l)"
   ]
  },
  {
   "cell_type": "code",
   "execution_count": 27,
   "metadata": {},
   "outputs": [
    {
     "name": "stdout",
     "output_type": "stream",
     "text": [
      "[0, 1, 2, 3, 4, 5, 6, 7, 8, 9]\n"
     ]
    }
   ],
   "source": [
    "l =[1,2,3,4,5,6,7,8,9,10]\n",
    "l.pop()\n",
    "l.pop(3)\n",
    "l.remove(2)\n",
    "l.remove(6)\n",
    "l.reverse()\n",
    "l.append(0)\n",
    "l.insert(5,2)\n",
    "l.insert(4,4)\n",
    "l.sort()\n",
    "l.insert(6,6)\n",
    "print(l)"
   ]
  },
  {
   "cell_type": "code",
   "execution_count": 29,
   "metadata": {},
   "outputs": [
    {
     "name": "stdout",
     "output_type": "stream",
     "text": [
      "9909308424"
     ]
    }
   ],
   "source": [
    "import random\n",
    "for i in range(10):\n",
    "    r = random.randrange(10)\n",
    "    print(r,end=\"\")"
   ]
  },
  {
   "cell_type": "code",
   "execution_count": 35,
   "metadata": {},
   "outputs": [
    {
     "name": "stdout",
     "output_type": "stream",
     "text": [
      "[0, 1, 2, 3, 4, 5, 6, 7, 8, 9, 10]\n"
     ]
    }
   ],
   "source": [
    "l =[]\n",
    "for i in range(11):\n",
    "    l.append(i)\n",
    "print(l)    "
   ]
  },
  {
   "cell_type": "code",
   "execution_count": 48,
   "metadata": {},
   "outputs": [
    {
     "name": "stdout",
     "output_type": "stream",
     "text": [
      "enter a range:10\n",
      "[0, 2, 4, 6, 8]\n",
      "enter a year:2021\n",
      "490\n"
     ]
    }
   ],
   "source": [
    "n = int(input(\"enter a range:\"))\n",
    "l =[]\n",
    "l1 =[]\n",
    "count = 0\n",
    "for i in range(n):\n",
    "    if(i%2==0):\n",
    "        l.append(i)\n",
    "print(l)\n",
    "year = int(input(\"enter a year:\"))\n",
    "for i in range(1,year):\n",
    "    if (((i % 4) == 0 and (i % 100)!= 0) or (i % 400) == 0):\n",
    "        l1.append(i)\n",
    "        count+=1\n",
    "            \n",
    "print(count)"
   ]
  },
  {
   "cell_type": "code",
   "execution_count": 51,
   "metadata": {},
   "outputs": [
    {
     "name": "stdout",
     "output_type": "stream",
     "text": [
      "[0, 1, 2, 3, 4, 5, 6, 7, 8, 9, 10, 11, 12, 13, 14, 15, 16, 17, 18, 19]\n",
      "19\n",
      "0\n"
     ]
    }
   ],
   "source": [
    "l =[]\n",
    "for i in range(20):\n",
    "    l.append(i)\n",
    "print(l)    \n",
    "print(max(l))\n",
    "print(min(l))"
   ]
  },
  {
   "cell_type": "code",
   "execution_count": 6,
   "metadata": {},
   "outputs": [
    {
     "name": "stdout",
     "output_type": "stream",
     "text": [
      "(2, 2, 4, 3, 5, 8, 6, 4, 9, 1)\n",
      "[4, 4, 16, 9, 25, 64, 36, 16, 81, 1]\n",
      "(4, 4, 16, 9, 25, 64, 36, 16, 81, 1)\n",
      "81 position= 8\n",
      "1 no of mins = 1\n"
     ]
    }
   ],
   "source": [
    "#task\n",
    "t =(2,2,4,3,5,8,6,4,9,1)\n",
    "print(t)\n",
    "l =list(map(lambda x:x*x,t))\n",
    "print(l)\n",
    "t2 = tuple(l)\n",
    "print(t2)\n",
    "maxpos =0\n",
    "count =0\n",
    "for i in range(len(t2)):\n",
    "    if(t2[i]==max(t2)):\n",
    "        maxpos = i\n",
    "for i in range(len(t2)):\n",
    "    if(min(t2)==t2[i]):\n",
    "        count = count+1\n",
    "print(max(t2),\"position=\",maxpos)\n",
    "print(min(t2),\"no of mins =\",count)"
   ]
  },
  {
   "cell_type": "code",
   "execution_count": 11,
   "metadata": {},
   "outputs": [
    {
     "name": "stdout",
     "output_type": "stream",
     "text": [
      "{1, 2, 3, 4}\n"
     ]
    }
   ],
   "source": [
    "#dictionary\n",
    "d ={1,2,3,4}\n",
    "print(d)\n"
   ]
  }
 ],
 "metadata": {
  "kernelspec": {
   "display_name": "Python 3",
   "language": "python",
   "name": "python3"
  },
  "language_info": {
   "codemirror_mode": {
    "name": "ipython",
    "version": 3
   },
   "file_extension": ".py",
   "mimetype": "text/x-python",
   "name": "python",
   "nbconvert_exporter": "python",
   "pygments_lexer": "ipython3",
   "version": "3.8.5"
  }
 },
 "nbformat": 4,
 "nbformat_minor": 4
}
