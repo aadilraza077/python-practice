{
 "cells": [
  {
   "cell_type": "code",
   "execution_count": null,
   "metadata": {},
   "outputs": [],
   "source": [
    "#odd numbers\n",
    "for i in range(1,10,2):\n",
    "    print(i)"
   ]
  },
  {
   "cell_type": "code",
   "execution_count": null,
   "metadata": {},
   "outputs": [],
   "source": [
    "for i in range(1,6):\n",
    "    print(i)"
   ]
  },
  {
   "cell_type": "code",
   "execution_count": null,
   "metadata": {},
   "outputs": [],
   "source": [
    "for i in range(5):\n",
    "    print(i)"
   ]
  },
  {
   "cell_type": "code",
   "execution_count": null,
   "metadata": {},
   "outputs": [],
   "source": [
    "#even numbers\n",
    "n1 = int(input(\"enter a range n1:\"))\n",
    "n2 = int(input(\"enter a range n2:\"))\n",
    "for i in range(n1,n2):\n",
    "    if(i%2==0):\n",
    "        print(i,end = \" \")\n",
    "    "
   ]
  },
  {
   "cell_type": "code",
   "execution_count": null,
   "metadata": {},
   "outputs": [],
   "source": [
    "#odd numbers \n",
    "n1 = int(input(\"enter a range n1:\"))\n",
    "n2 = int(input(\"enter a range n2:\"))\n",
    "for i in range(n1,n2,2):\n",
    "        print(i,end =\" \")"
   ]
  },
  {
   "cell_type": "code",
   "execution_count": null,
   "metadata": {},
   "outputs": [],
   "source": [
    "n = int(input(\"enter n:\"))\n",
    "sum =0\n",
    "for i in range(1,n+1):\n",
    "    print(i,end =\" \")\n",
    "    sum = sum+i\n",
    "avg = sum/10\n",
    "print(\"\\naverage is:\",avg)\n",
    "    "
   ]
  },
  {
   "cell_type": "code",
   "execution_count": null,
   "metadata": {},
   "outputs": [],
   "source": [
    "a = int(input(\"enter range 1:\"))\n",
    "b = int(input(\"enter range 2:\"))\n",
    "sum = 0\n",
    "cnt =0\n",
    "for i in range(c,d+1):\n",
    "    print(i,end=\" \")\n",
    "    sum = sum+i\n",
    "    cnt = cnt+1\n",
    "avg = sum/cnt\n",
    "print(\"\\naverage is:\",avg)"
   ]
  },
  {
   "cell_type": "code",
   "execution_count": null,
   "metadata": {},
   "outputs": [],
   "source": [
    "a = (input(\"enter range 1:\"))\n",
    "b = (input(\"enter range 2:\"))\n",
    "sum = 0\n",
    "cnt =0\n",
    "for i in range(a,b+1):\n",
    "    print(i,end=\" \")\n",
    "    sum = sum+i\n",
    "    cnt = cnt+1\n",
    "avg = sum/cnt\n",
    "print(\"\\naverage is:\",avg)"
   ]
  },
  {
   "cell_type": "code",
   "execution_count": null,
   "metadata": {},
   "outputs": [],
   "source": [
    "n = int(input(\"enter a number :\"))\n",
    "fact =1\n",
    "for i in range(1,n+1):\n",
    "    fact= fact*i\n",
    "print(\"the factoral:\",fact)    \n",
    "    "
   ]
  },
  {
   "cell_type": "code",
   "execution_count": null,
   "metadata": {},
   "outputs": [],
   "source": [
    "n = int(input(\"enter a number:\"))\n",
    "if(n==2 or n==3):\n",
    "    print(\"prime number\")\n",
    "if(n%1==0 and n%n==0):\n",
    "    if(n%2!=0 and n%3!=0):\n",
    "        print(\"prime number\")\n",
    "    else:\n",
    "        print(\"not a prime\")"
   ]
  },
  {
   "cell_type": "code",
   "execution_count": null,
   "metadata": {},
   "outputs": [],
   "source": [
    "def checkprime(n):\n",
    "    if(n==2 or n==3 or n==5 or n==7):\n",
    "         print(\"prime number\")\n",
    "            \n",
    "    elif(n%1==0 and n%n==0):\n",
    "        if(n%2!=0 and n%3!=0 and n%5!=0 and n%7!=0):\n",
    "            print(\"prime number\")\n",
    "        else:\n",
    "            print(\"not a prime\")\n",
    "n = int(input(\"enter a number:\"))\n",
    "checkprime(n)"
   ]
  },
  {
   "cell_type": "code",
   "execution_count": null,
   "metadata": {},
   "outputs": [],
   "source": [
    "#perfect number\n",
    "n = int(input(\"enter a number:\"))\n",
    "sum =0\n",
    "for i in range(1,n):\n",
    "    if(n%i==0):\n",
    "        sum=sum + i\n",
    "if(sum==n):\n",
    "    print(\"perfect\")\n",
    "else:\n",
    "    print(\"not perfect\")\n"
   ]
  },
  {
   "cell_type": "code",
   "execution_count": null,
   "metadata": {},
   "outputs": [],
   "source": [
    "\n",
    "def perfect(n):\n",
    "    sum =0\n",
    "    for i in range(1,n):\n",
    "        if(n%i==0):\n",
    "            sum=sum + i\n",
    "    if(sum==n):\n",
    "        print(\"perfect\")\n",
    "    else:\n",
    "        print(\"not perfect\")\n",
    "def factorial(n):\n",
    "        fact =1\n",
    "        for i in range(1,n+1):\n",
    "            fact= fact*i\n",
    "        print(\"the factoral:\",fact)    \n",
    "            \n",
    "def even(n):\n",
    "    if(n%2==0):\n",
    "        return True\n",
    "    else:\n",
    "        return False\n",
    "n = int(input(\"enter a number:\"))\n",
    "if(even(n)):\n",
    "    perfect(n)\n",
    "else:\n",
    "    factorial(n)\n",
    "    \n",
    "    "
   ]
  },
  {
   "cell_type": "code",
   "execution_count": null,
   "metadata": {
    "scrolled": false
   },
   "outputs": [],
   "source": [
    "n = int(input(\"enter a number:\"))\n",
    "print(\"MULTIPLICTAION TABLE OF\",n)\n",
    "for i in range(1,11):\n",
    "    print(n,\" x \",i,\" = \",n*i)"
   ]
  },
  {
   "cell_type": "code",
   "execution_count": null,
   "metadata": {},
   "outputs": [],
   "source": [
    "str = input(\"enter string:\")\n",
    "for i in str:\n",
    "    print(i,end=\" \")\n",
    "\n"
   ]
  },
  {
   "cell_type": "code",
   "execution_count": null,
   "metadata": {},
   "outputs": [],
   "source": [
    "str = input(\"enter a string:\")\n",
    "for i in str:\n",
    "    print(ord(i),end=\" \")\n",
    "    "
   ]
  },
  {
   "cell_type": "code",
   "execution_count": null,
   "metadata": {},
   "outputs": [],
   "source": [
    "str = input(\"enter a string:\")\n",
    "for i in str:\n",
    "    if(ord(i)%2==0):\n",
    "        print(i,end =\" \")\n",
    "    else:\n",
    "        b =int((ord(i)*ord(i))/40)\n",
    "        print(chr(b),end=\" \")\n",
    "        \n"
   ]
  },
  {
   "cell_type": "code",
   "execution_count": null,
   "metadata": {},
   "outputs": [],
   "source": [
    "def sum(a,b):\n",
    "    print(a**b)\n",
    "sum(70,80)"
   ]
  },
  {
   "cell_type": "code",
   "execution_count": null,
   "metadata": {},
   "outputs": [],
   "source": []
  }
 ],
 "metadata": {
  "kernelspec": {
   "display_name": "Python 3",
   "language": "python",
   "name": "python3"
  },
  "language_info": {
   "codemirror_mode": {
    "name": "ipython",
    "version": 3
   },
   "file_extension": ".py",
   "mimetype": "text/x-python",
   "name": "python",
   "nbconvert_exporter": "python",
   "pygments_lexer": "ipython3",
   "version": "3.8.5"
  }
 },
 "nbformat": 4,
 "nbformat_minor": 4
}
